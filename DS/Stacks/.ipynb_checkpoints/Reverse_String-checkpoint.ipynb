{
 "cells": [
  {
   "cell_type": "code",
   "execution_count": 3,
   "id": "adb2d97b",
   "metadata": {},
   "outputs": [],
   "source": [
    "class Stack:\n",
    "    def __init__(self):\n",
    "        self.item=[]\n",
    "        \n",
    "    def push(self,data):\n",
    "        self.item.append(data)\n",
    "    def pop(self):\n",
    "        return self.item.pop()\n",
    "    def isEmpty(self):\n",
    "        if len(self.item)==0:\n",
    "            return True\n",
    "        else:\n",
    "            return False\n",
    "        \n",
    "        "
   ]
  },
  {
   "cell_type": "code",
   "execution_count": 6,
   "id": "b7aa4c3a",
   "metadata": {},
   "outputs": [
    {
     "name": "stdout",
     "output_type": "stream",
     "text": [
      "HSAYERHS\n"
     ]
    }
   ],
   "source": [
    "word='SHREYASH'\n",
    "s=Stack()\n",
    "final=\"\"\n",
    "for i in word:\n",
    "    s.push(i)\n",
    "    \n",
    "while not s.isEmpty():\n",
    "    final+=s.pop()\n",
    "    \n",
    "print(final)"
   ]
  },
  {
   "cell_type": "code",
   "execution_count": null,
   "id": "7a363ee1",
   "metadata": {},
   "outputs": [],
   "source": []
  }
 ],
 "metadata": {
  "kernelspec": {
   "display_name": "Python 3 (ipykernel)",
   "language": "python",
   "name": "python3"
  },
  "language_info": {
   "codemirror_mode": {
    "name": "ipython",
    "version": 3
   },
   "file_extension": ".py",
   "mimetype": "text/x-python",
   "name": "python",
   "nbconvert_exporter": "python",
   "pygments_lexer": "ipython3",
   "version": "3.11.5"
  }
 },
 "nbformat": 4,
 "nbformat_minor": 5
}
