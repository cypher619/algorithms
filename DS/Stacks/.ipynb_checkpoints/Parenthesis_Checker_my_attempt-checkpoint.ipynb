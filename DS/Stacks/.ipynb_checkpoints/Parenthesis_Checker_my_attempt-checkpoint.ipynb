{
 "cells": [
  {
   "cell_type": "code",
   "execution_count": 1,
   "id": "2de0b75f",
   "metadata": {},
   "outputs": [],
   "source": [
    "class Stack():\n",
    "    def __init__(self):\n",
    "        self.items = []\n",
    "\n",
    "    def push(self, item):\n",
    "        self.items.append(item)\n",
    "\n",
    "    def pop(self):\n",
    "        return self.items.pop()\n",
    "    \n",
    "    def is_empty(self):\n",
    "        return self.items == []\n",
    "    \n",
    "    def peek(self):\n",
    "        if not self.is_empty():\n",
    "            return self.items[-1]\n",
    "        \n",
    "    def get_stack(self):\n",
    "        return self.items"
   ]
  },
  {
   "cell_type": "code",
   "execution_count": 4,
   "id": "bd161f93",
   "metadata": {},
   "outputs": [],
   "source": [
    "def isMatch(p1,p2):\n",
    "    if p1=='(' and p2==')':\n",
    "        return True\n",
    "    elif p1=='{' and p2=='}':\n",
    "        return True\n",
    "    elif p1=='[' and p2==']':\n",
    "        return True\n",
    "    else:\n",
    "        return False"
   ]
  },
  {
   "cell_type": "code",
   "execution_count": 15,
   "id": "955bc6aa",
   "metadata": {},
   "outputs": [],
   "source": [
    "def parenCheck(inpu):\n",
    "    inp=[]\n",
    "    for i in inpu:\n",
    "        inp.append(i)\n",
    "    s=Stack()\n",
    "    is_balance=True\n",
    "    index=0\n",
    "    \n",
    "    while index<len(inp) and is_balance:\n",
    "        paren=inp[index]\n",
    "        \n",
    "        if paren in (\"({[\"):\n",
    "            s.push(paren)\n",
    "        else:\n",
    "            if s.is_empty():\n",
    "                is_balance=False\n",
    "                break\n",
    "            else:\n",
    "                top= s.pop()\n",
    "                if not isMatch(top,paren):\n",
    "                    is_balance=False\n",
    "                    break\n",
    "        index+=1\n",
    "        \n",
    "    if is_balance and s.is_empty():\n",
    "        return True\n",
    "    else:\n",
    "        return False\n",
    "    "
   ]
  },
  {
   "cell_type": "code",
   "execution_count": 17,
   "id": "ae576c6b",
   "metadata": {},
   "outputs": [
    {
     "name": "stdout",
     "output_type": "stream",
     "text": [
      "False\n"
     ]
    }
   ],
   "source": [
    "print(parenCheck('(([]){}'))"
   ]
  },
  {
   "cell_type": "markdown",
   "id": "b6c57b9e",
   "metadata": {},
   "source": [
    "## Converting decimel to Binary Function"
   ]
  },
  {
   "cell_type": "code",
   "execution_count": null,
   "id": "0a797692",
   "metadata": {},
   "outputs": [],
   "source": [
    "\n",
    "\n",
    "def convert_int_to_bin(dec_num):\n",
    "  stack = Stack()\n",
    "  while dec_num:\n",
    "    rem= dec_num%2\n",
    "    dec_num = dec_num//2\n",
    "    stack.push(rem)\n",
    "  final=\"\"\n",
    "  while not stack.is_empty():\n",
    "    final+=str(stack.pop())\n",
    "  return final"
   ]
  }
 ],
 "metadata": {
  "kernelspec": {
   "display_name": "Python 3 (ipykernel)",
   "language": "python",
   "name": "python3"
  },
  "language_info": {
   "codemirror_mode": {
    "name": "ipython",
    "version": 3
   },
   "file_extension": ".py",
   "mimetype": "text/x-python",
   "name": "python",
   "nbconvert_exporter": "python",
   "pygments_lexer": "ipython3",
   "version": "3.11.5"
  }
 },
 "nbformat": 4,
 "nbformat_minor": 5
}
